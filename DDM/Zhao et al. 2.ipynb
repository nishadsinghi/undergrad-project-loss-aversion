{
 "cells": [
  {
   "cell_type": "markdown",
   "metadata": {},
   "source": [
    "## Import modules and data"
   ]
  },
  {
   "cell_type": "code",
   "execution_count": 2,
   "metadata": {},
   "outputs": [
    {
     "name": "stderr",
     "output_type": "stream",
     "text": [
      "/anaconda3/lib/python2.7/site-packages/IPython/parallel.py:13: ShimWarning: The `IPython.parallel` package has been deprecated since IPython 4.0. You should import from ipyparallel instead.\n",
      "  \"You should import from ipyparallel instead.\", ShimWarning)\n"
     ]
    }
   ],
   "source": [
    "import pandas as pd\n",
    "import hddm\n",
    "\n",
    "data = hddm.load_csv('risk_data.csv')"
   ]
  },
  {
   "cell_type": "markdown",
   "metadata": {},
   "source": [
    "## Regression model"
   ]
  },
  {
   "cell_type": "code",
   "execution_count": 3,
   "metadata": {},
   "outputs": [
    {
     "name": "stdout",
     "output_type": "stream",
     "text": [
      "Adding these covariates:\n",
      "['v_Intercept', 'v_gain', 'v_loss']\n",
      "Adding these covariates:\n",
      "['a_Intercept', 'a_loss']\n"
     ]
    }
   ],
   "source": [
    "m = hddm.models.HDDMRegressor(data, ['v ~ gain + loss', 'a ~ loss'], include=('z'), group_only_regressors=False)"
   ]
  },
  {
   "cell_type": "code",
   "execution_count": 4,
   "metadata": {},
   "outputs": [
    {
     "name": "stderr",
     "output_type": "stream",
     "text": [
      "/anaconda3/lib/python2.7/site-packages/scipy/optimize/optimize.py:1934: RuntimeWarning: invalid value encountered in double_scalars\n",
      "  tmp2 = (x - v) * (fx - fw)\n",
      "/anaconda3/lib/python2.7/site-packages/scipy/optimize/optimize.py:1935: RuntimeWarning: invalid value encountered in double_scalars\n",
      "  p = (x - v) * tmp2 - (x - w) * tmp1\n"
     ]
    }
   ],
   "source": [
    "m.find_starting_values()"
   ]
  },
  {
   "cell_type": "code",
   "execution_count": 5,
   "metadata": {},
   "outputs": [
    {
     "name": "stdout",
     "output_type": "stream",
     "text": [
      " [-----------------100%-----------------] 2501 of 2500 complete in 35793.7 sec"
     ]
    },
    {
     "data": {
      "text/plain": [
       "<pymc.MCMC.MCMC at 0x1a1b4e6e10>"
      ]
     },
     "execution_count": 5,
     "metadata": {},
     "output_type": "execute_result"
    }
   ],
   "source": [
    "m.sample(2500, burn=1000)"
   ]
  },
  {
   "cell_type": "markdown",
   "metadata": {},
   "source": [
    "## Results"
   ]
  },
  {
   "cell_type": "code",
   "execution_count": 10,
   "metadata": {},
   "outputs": [
    {
     "name": "stdout",
     "output_type": "stream",
     "text": [
      "          knode_name stochastic observed   subj       node tag     depends  \\\n",
      "t                  t       True    False  False          t  ()          []   \n",
      "t_std          t_std       True    False  False      t_std  ()          []   \n",
      "t_rate        t_rate      False    False  False     t_rate  ()          []   \n",
      "t_shape      t_shape      False    False  False    t_shape  ()          []   \n",
      "t_subj.1      t_subj       True    False   True   t_subj.1  ()  [subj_idx]   \n",
      "t_subj.2      t_subj       True    False   True   t_subj.2  ()  [subj_idx]   \n",
      "t_subj.3      t_subj       True    False   True   t_subj.3  ()  [subj_idx]   \n",
      "t_subj.4      t_subj       True    False   True   t_subj.4  ()  [subj_idx]   \n",
      "t_subj.5      t_subj       True    False   True   t_subj.5  ()  [subj_idx]   \n",
      "t_subj.6      t_subj       True    False   True   t_subj.6  ()  [subj_idx]   \n",
      "t_subj.7      t_subj       True    False   True   t_subj.7  ()  [subj_idx]   \n",
      "t_subj.8      t_subj       True    False   True   t_subj.8  ()  [subj_idx]   \n",
      "t_subj.9      t_subj       True    False   True   t_subj.9  ()  [subj_idx]   \n",
      "t_subj.10     t_subj       True    False   True  t_subj.10  ()  [subj_idx]   \n",
      "t_subj.11     t_subj       True    False   True  t_subj.11  ()  [subj_idx]   \n",
      "t_subj.12     t_subj       True    False   True  t_subj.12  ()  [subj_idx]   \n",
      "t_subj.13     t_subj       True    False   True  t_subj.13  ()  [subj_idx]   \n",
      "t_subj.14     t_subj       True    False   True  t_subj.14  ()  [subj_idx]   \n",
      "t_subj.15     t_subj       True    False   True  t_subj.15  ()  [subj_idx]   \n",
      "t_subj.16     t_subj       True    False   True  t_subj.16  ()  [subj_idx]   \n",
      "t_subj.17     t_subj       True    False   True  t_subj.17  ()  [subj_idx]   \n",
      "t_subj.18     t_subj       True    False   True  t_subj.18  ()  [subj_idx]   \n",
      "t_subj.19     t_subj       True    False   True  t_subj.19  ()  [subj_idx]   \n",
      "t_subj.20     t_subj       True    False   True  t_subj.20  ()  [subj_idx]   \n",
      "t_subj.21     t_subj       True    False   True  t_subj.21  ()  [subj_idx]   \n",
      "t_subj.22     t_subj       True    False   True  t_subj.22  ()  [subj_idx]   \n",
      "t_subj.23     t_subj       True    False   True  t_subj.23  ()  [subj_idx]   \n",
      "t_subj.24     t_subj       True    False   True  t_subj.24  ()  [subj_idx]   \n",
      "t_subj.25     t_subj       True    False   True  t_subj.25  ()  [subj_idx]   \n",
      "t_subj.26     t_subj       True    False   True  t_subj.26  ()  [subj_idx]   \n",
      "...              ...        ...      ...    ...        ...  ..         ...   \n",
      "wfpt.20         wfpt      False     True  False    wfpt.20  ()  [subj_idx]   \n",
      "wfpt.21         wfpt      False     True  False    wfpt.21  ()  [subj_idx]   \n",
      "wfpt.22         wfpt      False     True  False    wfpt.22  ()  [subj_idx]   \n",
      "wfpt.23         wfpt      False     True  False    wfpt.23  ()  [subj_idx]   \n",
      "wfpt.24         wfpt      False     True  False    wfpt.24  ()  [subj_idx]   \n",
      "wfpt.25         wfpt      False     True  False    wfpt.25  ()  [subj_idx]   \n",
      "wfpt.26         wfpt      False     True  False    wfpt.26  ()  [subj_idx]   \n",
      "wfpt.27         wfpt      False     True  False    wfpt.27  ()  [subj_idx]   \n",
      "wfpt.28         wfpt      False     True  False    wfpt.28  ()  [subj_idx]   \n",
      "wfpt.29         wfpt      False     True  False    wfpt.29  ()  [subj_idx]   \n",
      "wfpt.30         wfpt      False     True  False    wfpt.30  ()  [subj_idx]   \n",
      "wfpt.31         wfpt      False     True  False    wfpt.31  ()  [subj_idx]   \n",
      "wfpt.32         wfpt      False     True  False    wfpt.32  ()  [subj_idx]   \n",
      "wfpt.33         wfpt      False     True  False    wfpt.33  ()  [subj_idx]   \n",
      "wfpt.34         wfpt      False     True  False    wfpt.34  ()  [subj_idx]   \n",
      "wfpt.35         wfpt      False     True  False    wfpt.35  ()  [subj_idx]   \n",
      "wfpt.36         wfpt      False     True  False    wfpt.36  ()  [subj_idx]   \n",
      "wfpt.37         wfpt      False     True  False    wfpt.37  ()  [subj_idx]   \n",
      "wfpt.38         wfpt      False     True  False    wfpt.38  ()  [subj_idx]   \n",
      "wfpt.39         wfpt      False     True  False    wfpt.39  ()  [subj_idx]   \n",
      "wfpt.40         wfpt      False     True  False    wfpt.40  ()  [subj_idx]   \n",
      "wfpt.41         wfpt      False     True  False    wfpt.41  ()  [subj_idx]   \n",
      "wfpt.42         wfpt      False     True  False    wfpt.42  ()  [subj_idx]   \n",
      "wfpt.43         wfpt      False     True  False    wfpt.43  ()  [subj_idx]   \n",
      "wfpt.44         wfpt      False     True  False    wfpt.44  ()  [subj_idx]   \n",
      "wfpt.45         wfpt      False     True  False    wfpt.45  ()  [subj_idx]   \n",
      "wfpt.46         wfpt      False     True  False    wfpt.46  ()  [subj_idx]   \n",
      "wfpt.47         wfpt      False     True  False    wfpt.47  ()  [subj_idx]   \n",
      "wfpt.48         wfpt      False     True  False    wfpt.48  ()  [subj_idx]   \n",
      "wfpt.49         wfpt      False     True  False    wfpt.49  ()  [subj_idx]   \n",
      "\n",
      "          hidden subj_idx response  ... loss      mean         std       2.5q  \\\n",
      "t          False      NaN      NaN  ...  NaN  0.422386   0.0165409   0.389708   \n",
      "t_std      False      NaN      NaN  ...  NaN  0.111183   0.0124621  0.0891113   \n",
      "t_rate      True      NaN      NaN  ...  NaN       NaN         NaN        NaN   \n",
      "t_shape     True      NaN      NaN  ...  NaN       NaN         NaN        NaN   \n",
      "t_subj.1   False        1      NaN  ...  NaN  0.406107   0.0305784   0.340356   \n",
      "t_subj.2   False        2      NaN  ...  NaN  0.455483   0.0114129   0.430143   \n",
      "t_subj.3   False        3      NaN  ...  NaN  0.362029   0.0300772   0.295908   \n",
      "t_subj.4   False        4      NaN  ...  NaN  0.613884   0.0199064   0.570538   \n",
      "t_subj.5   False        5      NaN  ...  NaN  0.355738   0.0175203   0.315248   \n",
      "t_subj.6   False        6      NaN  ...  NaN  0.360465   0.0119986   0.335164   \n",
      "t_subj.7   False        7      NaN  ...  NaN  0.371598  0.00779904   0.354038   \n",
      "t_subj.8   False        8      NaN  ...  NaN  0.355713    0.020695   0.312294   \n",
      "t_subj.9   False        9      NaN  ...  NaN  0.479581   0.0303285   0.408976   \n",
      "t_subj.10  False       10      NaN  ...  NaN  0.287697   0.0395115   0.208673   \n",
      "t_subj.11  False       11      NaN  ...  NaN  0.506888   0.0205543   0.464262   \n",
      "t_subj.12  False       12      NaN  ...  NaN  0.343261   0.0192387   0.300111   \n",
      "t_subj.13  False       13      NaN  ...  NaN  0.460528   0.0152083   0.428368   \n",
      "t_subj.14  False       14      NaN  ...  NaN  0.523201   0.0189597     0.4821   \n",
      "t_subj.15  False       15      NaN  ...  NaN  0.863973   0.0241974   0.810423   \n",
      "t_subj.16  False       16      NaN  ...  NaN  0.373522   0.0185106   0.330435   \n",
      "t_subj.17  False       17      NaN  ...  NaN   0.37946  0.00766553   0.361953   \n",
      "t_subj.18  False       18      NaN  ...  NaN  0.505171   0.0262416   0.448768   \n",
      "t_subj.19  False       19      NaN  ...  NaN  0.193491   0.0287127   0.136432   \n",
      "t_subj.20  False       20      NaN  ...  NaN  0.387952   0.0478309   0.275934   \n",
      "t_subj.21  False       21      NaN  ...  NaN  0.369837     0.01131   0.343358   \n",
      "t_subj.22  False       22      NaN  ...  NaN  0.369673  0.00885163   0.349484   \n",
      "t_subj.23  False       23      NaN  ...  NaN  0.362712   0.0108668   0.338283   \n",
      "t_subj.24  False       24      NaN  ...  NaN  0.377306   0.0216755   0.317959   \n",
      "t_subj.25  False       25      NaN  ...  NaN    0.3918   0.0115012   0.366758   \n",
      "t_subj.26  False       26      NaN  ...  NaN  0.396518   0.0237016    0.34353   \n",
      "...          ...      ...      ...  ...  ...       ...         ...        ...   \n",
      "wfpt.20    False       20      NaN  ...  NaN       NaN         NaN        NaN   \n",
      "wfpt.21    False       21      NaN  ...  NaN       NaN         NaN        NaN   \n",
      "wfpt.22    False       22      NaN  ...  NaN       NaN         NaN        NaN   \n",
      "wfpt.23    False       23      NaN  ...  NaN       NaN         NaN        NaN   \n",
      "wfpt.24    False       24      NaN  ...  NaN       NaN         NaN        NaN   \n",
      "wfpt.25    False       25      NaN  ...  NaN       NaN         NaN        NaN   \n",
      "wfpt.26    False       26      NaN  ...  NaN       NaN         NaN        NaN   \n",
      "wfpt.27    False       27      NaN  ...  NaN       NaN         NaN        NaN   \n",
      "wfpt.28    False       28      NaN  ...  NaN       NaN         NaN        NaN   \n",
      "wfpt.29    False       29      NaN  ...  NaN       NaN         NaN        NaN   \n",
      "wfpt.30    False       30      NaN  ...  NaN       NaN         NaN        NaN   \n",
      "wfpt.31    False       31      NaN  ...  NaN       NaN         NaN        NaN   \n",
      "wfpt.32    False       32      NaN  ...  NaN       NaN         NaN        NaN   \n",
      "wfpt.33    False       33      NaN  ...  NaN       NaN         NaN        NaN   \n",
      "wfpt.34    False       34      NaN  ...  NaN       NaN         NaN        NaN   \n",
      "wfpt.35    False       35      NaN  ...  NaN       NaN         NaN        NaN   \n",
      "wfpt.36    False       36      NaN  ...  NaN       NaN         NaN        NaN   \n",
      "wfpt.37    False       37      NaN  ...  NaN       NaN         NaN        NaN   \n",
      "wfpt.38    False       38      NaN  ...  NaN       NaN         NaN        NaN   \n",
      "wfpt.39    False       39      NaN  ...  NaN       NaN         NaN        NaN   \n",
      "wfpt.40    False       40      NaN  ...  NaN       NaN         NaN        NaN   \n",
      "wfpt.41    False       41      NaN  ...  NaN       NaN         NaN        NaN   \n",
      "wfpt.42    False       42      NaN  ...  NaN       NaN         NaN        NaN   \n",
      "wfpt.43    False       43      NaN  ...  NaN       NaN         NaN        NaN   \n",
      "wfpt.44    False       44      NaN  ...  NaN       NaN         NaN        NaN   \n",
      "wfpt.45    False       45      NaN  ...  NaN       NaN         NaN        NaN   \n",
      "wfpt.46    False       46      NaN  ...  NaN       NaN         NaN        NaN   \n",
      "wfpt.47    False       47      NaN  ...  NaN       NaN         NaN        NaN   \n",
      "wfpt.48    False       48      NaN  ...  NaN       NaN         NaN        NaN   \n",
      "wfpt.49    False       49      NaN  ...  NaN       NaN         NaN        NaN   \n",
      "\n",
      "                25q       50q       75q     97.5q       mc err        map  \n",
      "t          0.411318  0.422064  0.432881  0.456188  0.000541561   0.412927  \n",
      "t_std      0.102443  0.110305  0.119465  0.137231  0.000426555   0.122157  \n",
      "t_rate          NaN       NaN       NaN       NaN          NaN  27.671579  \n",
      "t_shape         NaN       NaN       NaN       NaN          NaN  11.426338  \n",
      "t_subj.1   0.386653  0.409461   0.42735  0.459491   0.00121918   0.460555  \n",
      "t_subj.2   0.448331  0.457134  0.463883  0.473863  0.000468708   0.458106  \n",
      "t_subj.3   0.343562  0.364825  0.383718  0.413542   0.00136726   0.298047  \n",
      "t_subj.4   0.601952  0.615941  0.628433  0.647315  0.000911517   0.643408  \n",
      "t_subj.5   0.345732  0.358264  0.368753  0.381842  0.000924296   0.300217  \n",
      "t_subj.6   0.353214  0.361653  0.369427  0.379753  0.000754263   0.335502  \n",
      "t_subj.7   0.366896  0.372465  0.377018   0.38436  0.000420494   0.335247  \n",
      "t_subj.8   0.341536  0.357784  0.371343  0.392645    0.0007326   0.378203  \n",
      "t_subj.9   0.462417   0.48314  0.500579  0.528319   0.00135585   0.464768  \n",
      "t_subj.10   0.26076    0.2882  0.314933  0.365043    0.0017096   0.211061  \n",
      "t_subj.11  0.494187  0.508096  0.521585  0.542184  0.000891259   0.514670  \n",
      "t_subj.12  0.331963  0.345259  0.357199  0.375898  0.000744167   0.331972  \n",
      "t_subj.13  0.450444   0.46141  0.471605  0.486704  0.000674446   0.470438  \n",
      "t_subj.14  0.511324  0.525345  0.536643  0.555532  0.000806245   0.532763  \n",
      "t_subj.15  0.848573  0.865993  0.881598  0.905994  0.000870518   0.897034  \n",
      "t_subj.16  0.362977   0.37552  0.386329  0.405698  0.000815155   0.367870  \n",
      "t_subj.17  0.375277  0.380666  0.384707  0.390971  0.000435292   0.361953  \n",
      "t_subj.18  0.488324  0.507117  0.524052  0.549579   0.00120534   0.524845  \n",
      "t_subj.19    0.1742  0.194729  0.213722  0.249017   0.00114638   0.217783  \n",
      "t_subj.20  0.358746  0.395822  0.424503  0.457341   0.00251114   0.259648  \n",
      "t_subj.21  0.363316  0.371215  0.377935  0.388236  0.000607477   0.366279  \n",
      "t_subj.22  0.364438  0.370641  0.376019  0.383618   0.00053088   0.329222  \n",
      "t_subj.23  0.356614  0.363883  0.370386  0.380569  0.000541134   0.356777  \n",
      "t_subj.24  0.369186  0.381966  0.391873  0.402683   0.00125598   0.307841  \n",
      "t_subj.25  0.384489  0.393053  0.400059   0.41101  0.000463224   0.393460  \n",
      "t_subj.26  0.381944  0.398436  0.413236  0.438083  0.000997441   0.428794  \n",
      "...             ...       ...       ...       ...          ...        ...  \n",
      "wfpt.20         NaN       NaN       NaN       NaN          NaN        NaN  \n",
      "wfpt.21         NaN       NaN       NaN       NaN          NaN        NaN  \n",
      "wfpt.22         NaN       NaN       NaN       NaN          NaN        NaN  \n",
      "wfpt.23         NaN       NaN       NaN       NaN          NaN        NaN  \n",
      "wfpt.24         NaN       NaN       NaN       NaN          NaN        NaN  \n",
      "wfpt.25         NaN       NaN       NaN       NaN          NaN        NaN  \n",
      "wfpt.26         NaN       NaN       NaN       NaN          NaN        NaN  \n",
      "wfpt.27         NaN       NaN       NaN       NaN          NaN        NaN  \n",
      "wfpt.28         NaN       NaN       NaN       NaN          NaN        NaN  \n",
      "wfpt.29         NaN       NaN       NaN       NaN          NaN        NaN  \n",
      "wfpt.30         NaN       NaN       NaN       NaN          NaN        NaN  \n",
      "wfpt.31         NaN       NaN       NaN       NaN          NaN        NaN  \n",
      "wfpt.32         NaN       NaN       NaN       NaN          NaN        NaN  \n",
      "wfpt.33         NaN       NaN       NaN       NaN          NaN        NaN  \n",
      "wfpt.34         NaN       NaN       NaN       NaN          NaN        NaN  \n",
      "wfpt.35         NaN       NaN       NaN       NaN          NaN        NaN  \n",
      "wfpt.36         NaN       NaN       NaN       NaN          NaN        NaN  \n",
      "wfpt.37         NaN       NaN       NaN       NaN          NaN        NaN  \n",
      "wfpt.38         NaN       NaN       NaN       NaN          NaN        NaN  \n",
      "wfpt.39         NaN       NaN       NaN       NaN          NaN        NaN  \n",
      "wfpt.40         NaN       NaN       NaN       NaN          NaN        NaN  \n",
      "wfpt.41         NaN       NaN       NaN       NaN          NaN        NaN  \n",
      "wfpt.42         NaN       NaN       NaN       NaN          NaN        NaN  \n",
      "wfpt.43         NaN       NaN       NaN       NaN          NaN        NaN  \n",
      "wfpt.44         NaN       NaN       NaN       NaN          NaN        NaN  \n",
      "wfpt.45         NaN       NaN       NaN       NaN          NaN        NaN  \n",
      "wfpt.46         NaN       NaN       NaN       NaN          NaN        NaN  \n",
      "wfpt.47         NaN       NaN       NaN       NaN          NaN        NaN  \n",
      "wfpt.48         NaN       NaN       NaN       NaN          NaN        NaN  \n",
      "wfpt.49         NaN       NaN       NaN       NaN          NaN        NaN  \n",
      "\n",
      "[563 rows x 22 columns]\n"
     ]
    }
   ],
   "source": [
    "import numpy as np\n",
    "numSubjects = 49\n",
    "df = m.nodes_db\n",
    "\n",
    "print(m.nodes_db)\n",
    "\n",
    "lambdas = []\n",
    "for subjectIndex in range(1, numSubjects+1):\n",
    "    beta_gain = df.loc['v_gain_subj.{}'.format(subjectIndex), 'mean']\n",
    "    beta_loss = df.loc['v_loss_subj.{}'.format(subjectIndex), 'mean']\n",
    "    lambdas.append(beta_loss/beta_gain)\n",
    "    \n",
    "Lambda = np.mean(lambdas)\n",
    "print(\"Mean value of lambda = \", Lambda)"
   ]
  },
  {
   "cell_type": "code",
   "execution_count": 23,
   "metadata": {},
   "outputs": [
    {
     "name": "stdout",
     "output_type": "stream",
     "text": [
      "('Mean value of a: ', 1.670978170932195)\n"
     ]
    }
   ],
   "source": [
    "# a = a_intercept + a_loss x loss\n",
    "# loss = 10, 20, 30, 40, 50, 60, 70, 80, 90, 100\n",
    "import numpy as np\n",
    "allLosses = [10, 20, 30, 40, 50, 60, 70, 80, 90, 100]\n",
    "def a_mean_participant(a_intercept, a_loss):\n",
    "    all_a = []\n",
    "    for loss in allLosses:\n",
    "        a = a_intercept + a_loss*loss\n",
    "        all_a.append(a)\n",
    "    \n",
    "    mean_a = np.mean(all_a)\n",
    "    return mean_a \n",
    "\n",
    "db = m.nodes_db\n",
    "def getACovariatesForParticipant(participantIndex):\n",
    "    a_intercept = db.loc['a_Intercept_subj.{}'.format(participantIndex), 'mean']\n",
    "    a_loss = db.loc['a_loss_subj.{}'.format(participantIndex), 'mean']\n",
    "    \n",
    "    return a_intercept, a_loss\n",
    "\n",
    "numParticipants = 49\n",
    "allA = []\n",
    "for participantIndex in range(1, numParticipants+1):\n",
    "    participant_a = a_mean_participant(*getACovariatesForParticipant(participantIndex))\n",
    "    allA.append(participant_a)\n",
    "    \n",
    "print(\"Mean value of a: \", np.mean(allA))"
   ]
  },
  {
   "cell_type": "code",
   "execution_count": 1,
   "metadata": {},
   "outputs": [
    {
     "ename": "NameError",
     "evalue": "name 'numParticipants' is not defined",
     "output_type": "error",
     "traceback": [
      "\u001b[0;31m---------------------------------------------------------------------------\u001b[0m",
      "\u001b[0;31mNameError\u001b[0m                                 Traceback (most recent call last)",
      "\u001b[0;32m<ipython-input-1-81427619506b>\u001b[0m in \u001b[0;36m<module>\u001b[0;34m()\u001b[0m\n\u001b[1;32m      1\u001b[0m \u001b[0;31m# mean value of the bias\u001b[0m\u001b[0;34m\u001b[0m\u001b[0;34m\u001b[0m\u001b[0m\n\u001b[1;32m      2\u001b[0m \u001b[0mallZ\u001b[0m \u001b[0;34m=\u001b[0m \u001b[0;34m[\u001b[0m\u001b[0;34m]\u001b[0m\u001b[0;34m\u001b[0m\u001b[0m\n\u001b[0;32m----> 3\u001b[0;31m \u001b[0;32mfor\u001b[0m \u001b[0mparticipantIndex\u001b[0m \u001b[0;32min\u001b[0m \u001b[0mrange\u001b[0m\u001b[0;34m(\u001b[0m\u001b[0;36m1\u001b[0m\u001b[0;34m,\u001b[0m \u001b[0mnumParticipants\u001b[0m\u001b[0;34m+\u001b[0m\u001b[0;36m1\u001b[0m\u001b[0;34m)\u001b[0m\u001b[0;34m:\u001b[0m\u001b[0;34m\u001b[0m\u001b[0m\n\u001b[0m\u001b[1;32m      4\u001b[0m     \u001b[0mz_participant\u001b[0m \u001b[0;34m=\u001b[0m \u001b[0mdb\u001b[0m\u001b[0;34m.\u001b[0m\u001b[0mloc\u001b[0m\u001b[0;34m[\u001b[0m\u001b[0;34m'z_subj.{}'\u001b[0m\u001b[0;34m.\u001b[0m\u001b[0mformat\u001b[0m\u001b[0;34m(\u001b[0m\u001b[0mparticipantIndex\u001b[0m\u001b[0;34m)\u001b[0m\u001b[0;34m,\u001b[0m \u001b[0;34m'mean'\u001b[0m\u001b[0;34m]\u001b[0m\u001b[0;34m\u001b[0m\u001b[0m\n\u001b[1;32m      5\u001b[0m     \u001b[0mz_adjusted\u001b[0m \u001b[0;34m=\u001b[0m \u001b[0;34m(\u001b[0m\u001b[0mz_participant\u001b[0m \u001b[0;34m-\u001b[0m \u001b[0;36m0.5\u001b[0m\u001b[0;34m)\u001b[0m\u001b[0;34m*\u001b[0m\u001b[0mallA\u001b[0m\u001b[0;34m[\u001b[0m\u001b[0mparticipantIndex\u001b[0m\u001b[0;34m-\u001b[0m\u001b[0;36m1\u001b[0m\u001b[0;34m]\u001b[0m\u001b[0;34m\u001b[0m\u001b[0m\n",
      "\u001b[0;31mNameError\u001b[0m: name 'numParticipants' is not defined"
     ]
    }
   ],
   "source": [
    "# mean value of the bias\n",
    "allZ = []\n",
    "for participantIndex in range(1, numParticipants+1):\n",
    "    z_participant = db.loc['z_subj.{}'.format(participantIndex), 'mean']\n",
    "    z_adjusted = (z_participant - 0.5)*allA[participantIndex-1]\n",
    "    allZ.append(z_adjusted)\n",
    "    \n",
    "mean_Z = np.mean(allZ)\n",
    "print(\"Mean value of Bias: \", mean_Z)"
   ]
  },
  {
   "cell_type": "markdown",
   "metadata": {},
   "source": [
    "## Plots"
   ]
  },
  {
   "cell_type": "code",
   "execution_count": 62,
   "metadata": {},
   "outputs": [
    {
     "data": {
      "text/plain": [
       "Text(0,0.5,'Coefficient for Loss')"
      ]
     },
     "execution_count": 62,
     "metadata": {},
     "output_type": "execute_result"
    },
    {
     "data": {
      "image/png": "[encoded data removed]",
      "text/plain": [
       "<Figure size 576x576 with 1 Axes>"
      ]
     },
     "metadata": {
      "needs_background": "light"
     },
     "output_type": "display_data"
    }
   ],
   "source": [
    "from matplotlib import pyplot as plt\n",
    "import numpy as np\n",
    "\n",
    "all_beta_gain = []\n",
    "all_beta_loss = []\n",
    "\n",
    "for subjectIndex in range(1, numSubjects+1):\n",
    "    all_beta_gain.append(df.loc['v_gain_subj.{}'.format(subjectIndex), 'mean'])\n",
    "    all_beta_loss.append(df.loc['v_loss_subj.{}'.format(subjectIndex), 'mean'])\n",
    "\n",
    "fig, ax = plt.subplots(figsize=(8,8))\n",
    "ax.scatter(all_beta_gain, all_beta_loss)\n",
    "\n",
    "line_x = (-0.02, 0.06)\n",
    "line_y = (-0.02, 0.06)\n",
    "ax.plot(line_x, line_y, 'r--')\n",
    "\n",
    "ax.set_xlim(-0.02, 0.06)\n",
    "ax.set_ylim(-0.02, 0.06)\n",
    "ax.set_xlabel(\"Coefficient for Gain\")\n",
    "ax.set_ylabel(\"Coefficient for Loss\")"
   ]
  },
  {
   "cell_type": "code",
   "execution_count": 67,
   "metadata": {},
   "outputs": [
    {
     "data": {
      "text/plain": [
       "Text(0,0.5,'Predecisional Bias')"
      ]
     },
     "execution_count": 67,
     "metadata": {},
     "output_type": "execute_result"
    },
    {
     "data": {
      "image/png": "[encoded data removed]",
      "text/plain": [
       "<Figure size 576x576 with 1 Axes>"
      ]
     },
     "metadata": {
      "needs_background": "light"
     },
     "output_type": "display_data"
    }
   ],
   "source": [
    "all_alpha = []\n",
    "for participantIndex in range(1, numParticipants+1):\n",
    "    all_alpha.append(db.loc['v_Intercept_subj.{}'.format(participantIndex), 'mean'])\n",
    "    \n",
    "fig, ax = plt.subplots(figsize=(8,8))\n",
    "ax.scatter(all_alpha, allZ)\n",
    "horizontalLineX = (-2, +2)\n",
    "horizontalLineY = (0, 0)\n",
    "verticalLineX = (0, 0)\n",
    "verticalLineY = (-0.8, 0.8)\n",
    "ax.plot(horizontalLineX, horizontalLineY, 'r--')\n",
    "ax.plot(verticalLineX, verticalLineY, 'r--')\n",
    "\n",
    "ax.set_xlim(-2, 2)\n",
    "ax.set_ylim(-0.8, 0.8)\n",
    "ax.set_xlabel(\"Additive Intercept\")\n",
    "ax.set_ylabel(\"Predecisional Bias\")"
   ]
  },
  {
   "cell_type": "code",
   "execution_count": 72,
   "metadata": {},
   "outputs": [],
   "source": [
    "# compute P(Accept)\n",
    "grouped = data.groupby(\"subj_idx\")\n",
    "all_p_accept = grouped[\"response\"].aggregate(np.mean).to_list()"
   ]
  },
  {
   "cell_type": "code",
   "execution_count": 78,
   "metadata": {},
   "outputs": [
    {
     "data": {
      "text/plain": [
       "Text(0,0.5,'P(Acceptance)')"
      ]
     },
     "execution_count": 78,
     "metadata": {},
     "output_type": "execute_result"
    },
    {
     "data": {
      "image/png": "[encoded data removed]",
      "text/plain": [
       "<Figure size 360x360 with 1 Axes>"
      ]
     },
     "metadata": {
      "needs_background": "light"
     },
     "output_type": "display_data"
    }
   ],
   "source": [
    "fig, ax = plt.subplots(figsize=(5, 5))\n",
    "ax.scatter(allZ, all_p_accept)\n",
    "ax.set_xlim(-0.8, 0.4)\n",
    "ax.set_ylim(-0.1, 0.8)\n",
    "ax.set_xlabel(\"Predecisional Bias\")\n",
    "ax.set_ylabel(\"P(Acceptance)\")"
   ]
  },
  {
   "cell_type": "code",
   "execution_count": 81,
   "metadata": {},
   "outputs": [
    {
     "name": "stdout",
     "output_type": "stream",
     "text": [
      "('Pearson Correlation between Predecisional Bias and P(Acceptance) is: ', (0.8463611104279926, 1.8784482987442613e-14))\n"
     ]
    }
   ],
   "source": [
    "from scipy.stats.stats import pearsonr\n",
    "print(\"Pearson Correlation between Predecisional Bias and P(Acceptance) is: \", pearsonr(all_p_accept, allZ))"
   ]
  },
  {
   "cell_type": "code",
   "execution_count": 80,
   "metadata": {},
   "outputs": [
    {
     "data": {
      "text/plain": [
       "Text(0,0.5,'P(Acceptance)')"
      ]
     },
     "execution_count": 80,
     "metadata": {},
     "output_type": "execute_result"
    },
    {
     "data": {
      "image/png": "[encoded data removed]",
      "text/plain": [
       "<Figure size 360x360 with 1 Axes>"
      ]
     },
     "metadata": {
      "needs_background": "light"
     },
     "output_type": "display_data"
    }
   ],
   "source": [
    "fig, ax = plt.subplots(figsize=(5, 5))\n",
    "ax.scatter(lambdas, all_p_accept)\n",
    "ax.set_xlim(-0.1, 7.6)\n",
    "ax.set_ylim(-0.1, 0.8)\n",
    "ax.set_xlabel(\"Loss Aversion\")\n",
    "ax.set_ylabel(\"P(Acceptance)\")"
   ]
  },
  {
   "cell_type": "code",
   "execution_count": 85,
   "metadata": {},
   "outputs": [
    {
     "name": "stdout",
     "output_type": "stream",
     "text": [
      "('Pearson Correlation between Loss Aversion and P(Acceptance) is: ', (0.08936536896460241, 0.5414429857303582))\n"
     ]
    }
   ],
   "source": [
    "print(\"Pearson Correlation between Loss Aversion and P(Acceptance) is: \", pearsonr(all_p_accept, lambdas))"
   ]
  },
  {
   "cell_type": "code",
   "execution_count": 87,
   "metadata": {},
   "outputs": [
    {
     "name": "stdout",
     "output_type": "stream",
     "text": [
      "                            mean          std         2.5q          25q          50q          75q        97.5q       mc err\n",
      "t                       0.422386    0.0167411     0.389825     0.411288      0.42207     0.433943     0.454532  0.000563008\n",
      "t_std                     0.1115    0.0132146    0.0886482     0.102136     0.110593     0.119404     0.140056  0.000440808\n",
      "t_subj.1                0.407297    0.0301767     0.341207     0.387037     0.409806     0.430233     0.459448   0.00127882\n",
      "t_subj.2                0.456666    0.0115256     0.428722     0.450879      0.45833     0.464602     0.474076  0.000456461\n",
      "t_subj.3                 0.36231     0.031095      0.28994     0.343515     0.364787     0.383612     0.416238   0.00156362\n",
      "t_subj.4                0.613783    0.0182105     0.574591      0.60145      0.61484     0.626715     0.645112  0.000725847\n",
      "t_subj.5                0.355707    0.0164925     0.317767     0.346002     0.357647     0.368172     0.381566   0.00101091\n",
      "t_subj.6                0.360972    0.0117052     0.335507     0.353946     0.362246     0.369026     0.381281  0.000735885\n",
      "t_subj.7                 0.37149   0.00763594     0.354192     0.367148      0.37243      0.37681     0.383823   0.00037094\n",
      "t_subj.8                0.352332    0.0216098     0.307576     0.338681     0.354016     0.367223     0.390896  0.000908266\n",
      "t_subj.9                 0.47768    0.0282251      0.41131     0.461867     0.480751     0.498033     0.523371   0.00121887\n",
      "t_subj.10               0.284648    0.0399221     0.200521     0.259208     0.285796     0.312156     0.357888   0.00164371\n",
      "t_subj.11               0.503953     0.021443     0.458128     0.490455     0.505519      0.51857     0.542047  0.000902244\n",
      "t_subj.12               0.342409    0.0202774     0.297454      0.33027     0.343885      0.35715     0.376092  0.000842209\n",
      "t_subj.13               0.460632    0.0158023     0.426298     0.450787     0.461947     0.471933     0.487598  0.000708537\n",
      "t_subj.14               0.522086     0.019534     0.479653      0.50981     0.523055     0.536075     0.555935  0.000861544\n",
      "t_subj.15               0.865241    0.0242151      0.81404       0.8505     0.867146     0.882352     0.907631   0.00100046\n",
      "t_subj.16               0.374285    0.0182208     0.331914     0.364359     0.375805     0.386951     0.403234  0.000815246\n",
      "t_subj.17                0.38065   0.00720102     0.363344     0.376489     0.381379     0.385779     0.392733  0.000367362\n",
      "t_subj.18               0.504548    0.0257186     0.449649     0.487759     0.505512     0.522712      0.55101   0.00108176\n",
      "t_subj.19               0.193533    0.0291709     0.134673     0.173788     0.193726     0.214667     0.249254  0.000862692\n",
      "t_subj.20               0.387684    0.0478484     0.274634     0.359743     0.395463      0.42434     0.458771   0.00277483\n",
      "t_subj.21                0.37146    0.0110084     0.345229     0.364787     0.372567     0.379476     0.389095  0.000484878\n",
      "t_subj.22               0.370037   0.00865717     0.349395     0.364643     0.371337     0.376001     0.384334  0.000509961\n",
      "t_subj.23               0.362902    0.0101102     0.340954     0.356311     0.364071     0.370475     0.379012  0.000466047\n",
      "t_subj.24               0.376787    0.0223745     0.318932     0.366206     0.382753     0.393297      0.40354   0.00135461\n",
      "t_subj.25               0.391601    0.0112968     0.368054     0.384006     0.392254      0.39974       0.4114  0.000524713\n",
      "t_subj.26               0.396451    0.0236025     0.344174     0.382139     0.398828      0.41252     0.437031   0.00102339\n",
      "t_subj.27               0.498188    0.0387262     0.416076     0.473352     0.499622       0.5246     0.570061   0.00160406\n",
      "t_subj.28               0.432935    0.0283781     0.370025     0.415656     0.435748     0.451974     0.482597   0.00133587\n",
      "t_subj.29                0.35225     0.015097     0.317753     0.343051     0.354138     0.363291     0.376372  0.000832437\n",
      "t_subj.30               0.347907    0.0139144     0.315969     0.339794     0.349274     0.357747        0.371  0.000624761\n",
      "t_subj.31               0.378381   0.00989076     0.357449       0.3719      0.37924     0.385621     0.394688  0.000442838\n",
      "t_subj.32               0.377255    0.0090294     0.357311     0.371841     0.378318     0.383634     0.392123  0.000499063\n",
      "t_subj.33               0.370483    0.0144926     0.333714     0.363588     0.372704     0.380261     0.392431  0.000807177\n",
      "t_subj.34               0.373414    0.0230533     0.324364     0.358014     0.375303     0.390479     0.412287  0.000934402\n",
      "t_subj.35               0.570496     0.010361     0.547526      0.56409     0.571779     0.578119     0.587316   0.00037931\n",
      "t_subj.36               0.345937    0.0125961     0.318961     0.337861     0.346843     0.354887     0.368764  0.000795475\n",
      "t_subj.37               0.725738    0.0246253     0.672945     0.710224     0.727474     0.743232     0.767991   0.00110344\n",
      "t_subj.38               0.501077    0.0193106     0.457876     0.489293      0.50318     0.515052     0.533005  0.000947926\n",
      "t_subj.39               0.514534   0.00991303     0.492551     0.508959     0.515664     0.521417     0.530668  0.000407114\n",
      "t_subj.40               0.538012    0.0295455     0.474722     0.519824      0.54005     0.558119     0.590327   0.00133579\n",
      "t_subj.41               0.353422    0.0110353     0.328722     0.346793      0.35432     0.361459     0.372435  0.000522087\n",
      "t_subj.42               0.429045    0.0229327     0.375735     0.414878     0.430964     0.446347     0.466105   0.00110293\n",
      "t_subj.43               0.348247     0.019432     0.306787     0.335516     0.349583      0.36228     0.382163  0.000852364\n",
      "t_subj.44                0.53127    0.0201427     0.485461     0.519064     0.532198     0.545614     0.567514  0.000836925\n",
      "t_subj.45               0.262416    0.0304638     0.195591     0.242879     0.265503     0.283734     0.315738   0.00113393\n",
      "t_subj.46               0.340543    0.0240337     0.287559     0.326572     0.343263     0.357775     0.379302   0.00112561\n",
      "t_subj.47               0.376793    0.0132456     0.347115     0.369569     0.378281     0.386452     0.398439  0.000589536\n",
      "t_subj.48               0.364958    0.0107037     0.341331     0.358469      0.36603     0.373064     0.382334  0.000572256\n",
      "t_subj.49               0.476602    0.0232789     0.425091     0.462886     0.478407     0.493249     0.515654  0.000979435\n",
      "z                       0.370968    0.0140273      0.34387     0.362116      0.37108     0.379856     0.398619  0.000510337\n",
      "z_std                   0.386134    0.0248825     0.338409      0.36963     0.385847     0.402272     0.435759   0.00100795\n",
      "z_subj.1                0.428599     0.023232     0.384265     0.412897     0.428343     0.443885     0.473972  0.000892073\n",
      "z_subj.2                0.386342    0.0264423     0.338384     0.367855      0.38521     0.403944     0.440275   0.00131916\n",
      "z_subj.3                0.324409    0.0263037     0.276297     0.305838     0.324513     0.341647     0.376921   0.00153005\n",
      "z_subj.4                0.520185    0.0243112     0.471032      0.50391     0.521035     0.536386     0.565838     0.001003\n",
      "z_subj.5                0.203471    0.0405043     0.132562     0.173433     0.201036     0.230144     0.285562   0.00277245\n",
      "z_subj.6                0.214218    0.0287318      0.16328     0.194072     0.212056     0.234031     0.271541   0.00207741\n",
      "z_subj.7                0.192102    0.0211903     0.154421     0.177661     0.190786     0.205868      0.23504   0.00118762\n",
      "z_subj.8                0.533776    0.0245038     0.484627     0.517604     0.533375     0.550233     0.582556   0.00107416\n",
      "z_subj.9                0.388467    0.0272668      0.33328      0.37056     0.388709     0.406219     0.443797   0.00142563\n",
      "z_subj.10               0.385859    0.0275061     0.333814     0.367409     0.385537     0.404232     0.443086   0.00126201\n",
      "z_subj.11               0.462599      0.02757     0.408201     0.444644     0.463535     0.480395     0.517781   0.00138905\n",
      "z_subj.12               0.666586    0.0246696     0.616741     0.649885      0.66769     0.683832     0.710522   0.00106194\n",
      "z_subj.13               0.390828    0.0235785     0.345489     0.374821     0.390662     0.406519     0.437534   0.00120623\n",
      "z_subj.14               0.354516    0.0242372     0.307957     0.338214     0.354038     0.370598     0.404233   0.00119868\n",
      "z_subj.15               0.511357    0.0250569     0.463798     0.493465     0.510934     0.530154     0.560167   0.00109844\n",
      "z_subj.16               0.363896    0.0268213     0.313961     0.344971     0.363399     0.381954      0.41741   0.00131181\n",
      "z_subj.17               0.211577    0.0276474     0.160121     0.193062     0.211626     0.228522     0.270934   0.00195193\n",
      "z_subj.18               0.429203    0.0263868     0.381449     0.410857     0.428318      0.44633     0.483276   0.00125817\n",
      "z_subj.19                0.46941     0.023364     0.422977     0.453893     0.469366     0.485659     0.513508  0.000800539\n",
      "z_subj.20               0.219136    0.0536396     0.122355     0.180925     0.216081     0.253024     0.337847   0.00312659\n",
      "z_subj.21               0.371399    0.0289028     0.316491     0.352167     0.370391     0.390173     0.430065   0.00141543\n",
      "z_subj.22               0.218126     0.025017      0.17126     0.200605     0.217056     0.234214     0.268694   0.00174206\n",
      "z_subj.23               0.390668    0.0310149     0.334849     0.367729     0.388955     0.411543      0.45525   0.00195411\n",
      "z_subj.24               0.197264    0.0507485     0.115602     0.160803     0.188707     0.228534     0.312996   0.00325049\n",
      "z_subj.25               0.413719    0.0269252      0.36086     0.395779     0.414583     0.432202     0.465743   0.00115852\n",
      "z_subj.26               0.553095    0.0227557     0.509026       0.5372     0.553351     0.568406     0.596363  0.000825049\n",
      "z_subj.27               0.509738     0.024416     0.463975     0.492416     0.509412     0.526424     0.558206   0.00118789\n",
      "z_subj.28               0.576065    0.0229747     0.529331     0.561081     0.576664     0.591542     0.619703  0.000899006\n",
      "z_subj.29               0.186074    0.0222776     0.146945     0.169714     0.184387     0.200862     0.234058   0.00140213\n",
      "z_subj.30               0.310001    0.0260001     0.261762     0.291978     0.308217     0.326275     0.365251   0.00154678\n",
      "z_subj.31               0.335135     0.024088     0.286024     0.320016     0.334961     0.349614     0.384474    0.0012455\n",
      "z_subj.32               0.245248    0.0242113      0.20168     0.227299     0.243999     0.261247     0.296729   0.00142893\n",
      "z_subj.33               0.257513    0.0267095     0.210822     0.238396      0.25515      0.27463     0.315795   0.00178942\n",
      "z_subj.34               0.381706    0.0268153     0.329066     0.363653     0.380948     0.399973     0.433855   0.00121999\n",
      "z_subj.35               0.517431    0.0263341     0.466648     0.499862     0.517399     0.534065     0.571443   0.00108723\n",
      "z_subj.36               0.303778    0.0362949     0.235633     0.279906     0.303202     0.326144     0.379295    0.0027973\n",
      "z_subj.37               0.488933     0.022967     0.440872     0.473419     0.490101     0.505049     0.529943  0.000913118\n",
      "z_subj.38               0.308888    0.0244048     0.263286     0.291807     0.308332     0.325415     0.353868   0.00136839\n",
      "z_subj.39                0.48071    0.0255026     0.430656     0.464138     0.480655     0.497901     0.529401    0.0010122\n",
      "z_subj.40                0.55626    0.0238978     0.509191     0.540746     0.556376     0.572393     0.603482   0.00101806\n",
      "z_subj.41               0.257019    0.0229277     0.214425     0.241156     0.255798     0.271602     0.304848   0.00134779\n",
      "z_subj.42               0.361699    0.0266024     0.312691     0.343657     0.361155     0.378779     0.416156   0.00140859\n",
      "z_subj.43                0.59227    0.0268607     0.536638     0.574786     0.594079     0.611139     0.640579   0.00130731\n",
      "z_subj.44               0.388608    0.0246268     0.340757     0.371967     0.388374     0.403962     0.441779   0.00115419\n",
      "z_subj.45               0.528491    0.0284493     0.471216     0.508362     0.529292     0.548103     0.581804   0.00105628\n",
      "z_subj.46               0.301431    0.0292117      0.24419     0.280754     0.301605     0.321083     0.357395   0.00187816\n",
      "z_subj.47               0.263811    0.0229543     0.221798     0.247925     0.262046     0.277994     0.312677   0.00130238\n",
      "z_subj.48               0.241495    0.0245173      0.19607     0.224744     0.240875     0.256715     0.289808   0.00166189\n",
      "z_subj.49               0.367983    0.0232459     0.323458       0.3506     0.367949     0.383514     0.413128  0.000935216\n",
      "v_Intercept            0.0552855    0.0821322    -0.105188   0.00120922    0.0566352     0.110134     0.217193   0.00349319\n",
      "v_Intercept_std         0.507768    0.0695265     0.382311     0.461353     0.501532     0.549819     0.664647   0.00399777\n",
      "v_Intercept_subj.1       0.13772     0.169307    -0.211602    0.0169665     0.147085     0.259157     0.451347    0.0119316\n",
      "v_Intercept_subj.2      0.124325     0.232348    -0.301292   -0.0439857     0.117298     0.282937     0.606316     0.016885\n",
      "v_Intercept_subj.3      0.536108     0.162253     0.218013     0.426633     0.540767     0.648636     0.834951    0.0122208\n",
      "v_Intercept_subj.4      0.149178     0.204624    -0.251476   0.00668023     0.156139     0.291317     0.554068    0.0138822\n",
      "v_Intercept_subj.5     -0.243562     0.331758    -0.911071    -0.463039    -0.242203   -0.0264356     0.384281    0.0192404\n",
      "v_Intercept_subj.6     -0.869422     0.285988     -1.37832     -1.07545    -0.886004    -0.678586    -0.274738     0.020986\n",
      "v_Intercept_subj.7     -0.317015     0.250887    -0.829271    -0.476448    -0.313859    -0.151436     0.169253    0.0169746\n",
      "v_Intercept_subj.8    -0.0821219     0.170807    -0.438291    -0.195498   -0.0745405    0.0327384     0.236058    0.0122365\n",
      "v_Intercept_subj.9      0.092197     0.149194    -0.199137   -0.0130109     0.091591     0.192941     0.378857    0.0106922\n",
      "v_Intercept_subj.10     0.251977     0.122041    0.0144277     0.166763     0.255275     0.336821     0.483116   0.00833394\n",
      "v_Intercept_subj.11     0.226321     0.210123     -0.18738    0.0820549     0.222412     0.367457     0.640653    0.0151863\n",
      "v_Intercept_subj.12   -0.0574994     0.181758    -0.419972    -0.176557    -0.058864    0.0694519     0.284255    0.0126432\n",
      "v_Intercept_subj.13     0.105029     0.196586    -0.271968    -0.019202    0.0965761     0.240427     0.499663    0.0121319\n",
      "v_Intercept_subj.14    0.0330407     0.215837    -0.407777    -0.108888    0.0353108     0.180894     0.442788    0.0161363\n",
      "v_Intercept_subj.15    -0.066936     0.194435    -0.427401    -0.199642   -0.0716894    0.0659389     0.318732    0.0133304\n",
      "v_Intercept_subj.16     0.374644     0.191378   0.00972192     0.240775     0.379065     0.505424      0.74139    0.0139481\n",
      "v_Intercept_subj.17    -0.929932     0.337057      -1.6227      -1.1556    -0.909975    -0.683943    -0.325558    0.0252061\n",
      "v_Intercept_subj.18     0.580263      0.17984     0.218447      0.46387     0.578883     0.700009     0.932289     0.012035\n",
      "v_Intercept_subj.19     0.256021     0.168971   -0.0692108     0.137229     0.254984     0.379305     0.577232    0.0131413\n",
      "v_Intercept_subj.20    -0.243899     0.413244     -1.06488    -0.517332    -0.239239    0.0210422     0.584394    0.0233503\n",
      "v_Intercept_subj.21     0.564446     0.215146     0.161238     0.418984     0.552842     0.704963     0.997401    0.0128317\n",
      "v_Intercept_subj.22     0.560722     0.228147     0.146875      0.40304     0.551871     0.719862      1.02246    0.0151741\n",
      "v_Intercept_subj.23     0.817444     0.250115     0.341805     0.646366     0.804858     0.997242      1.29514    0.0177009\n",
      "v_Intercept_subj.24     -0.15807     0.441727     -1.06901    -0.458182    -0.149773      0.15426     0.664086     0.017798\n",
      "v_Intercept_subj.25     0.419988     0.244132   -0.0455899     0.260363     0.412992     0.577967      0.93704    0.0157244\n",
      "v_Intercept_subj.26    -0.309947     0.187116    -0.658859    -0.444118    -0.301197    -0.173869    0.0359422    0.0135596\n",
      "v_Intercept_subj.27     0.428101     0.145079      0.13979     0.332153      0.42166     0.525431     0.704111    0.0105415\n",
      "v_Intercept_subj.28    -0.172753     0.187618    -0.547171    -0.296759    -0.167179   -0.0504404     0.192676    0.0139602\n",
      "v_Intercept_subj.29    -0.393549     0.211061    -0.811255     -0.52545    -0.391551    -0.248368    0.0283059    0.0151571\n",
      "v_Intercept_subj.30    0.0492999     0.196012    -0.342041   -0.0803789    0.0563495     0.181631     0.423192    0.0134975\n",
      "v_Intercept_subj.31    -0.898957     0.260008     -1.42393     -1.07301    -0.891693    -0.708906    -0.423512    0.0191118\n",
      "v_Intercept_subj.32     0.396044     0.243017   -0.0789911     0.231269     0.389172     0.568105     0.853638    0.0164234\n",
      "v_Intercept_subj.33    -0.358284     0.208608    -0.759356    -0.504084    -0.349429    -0.206857    0.0362403    0.0145088\n",
      "v_Intercept_subj.34      1.05821      0.17959     0.704114     0.943881      1.05461      1.17092      1.42386    0.0129989\n",
      "v_Intercept_subj.35   -0.0551586       0.2467    -0.568221    -0.217854   -0.0560881     0.113016     0.410549    0.0158641\n",
      "v_Intercept_subj.36    -0.424472     0.292887    -0.980544    -0.616422    -0.432289     -0.25243     0.193538    0.0217086\n",
      "v_Intercept_subj.37     0.189001     0.191699    -0.168081    0.0585557     0.189798     0.324131     0.565325    0.0139573\n",
      "v_Intercept_subj.38    0.0639362     0.203654    -0.331857   -0.0821907    0.0622672     0.202772     0.473875    0.0140768\n",
      "v_Intercept_subj.39    0.0277963     0.255323    -0.454936    -0.147692    0.0384883     0.202796     0.529049    0.0183566\n",
      "v_Intercept_subj.40    -0.335708      0.18476    -0.680385    -0.467707    -0.343784    -0.210419    0.0368161    0.0132615\n",
      "v_Intercept_subj.41     0.533348     0.233121    0.0839528     0.366707      0.54148     0.708313     0.952059    0.0166897\n",
      "v_Intercept_subj.42    -0.353467     0.207238    -0.771394    -0.494928    -0.356394    -0.209108    0.0590325    0.0157382\n",
      "v_Intercept_subj.43     0.804357     0.200236     0.417673     0.665354     0.799762     0.937476      1.20517    0.0144718\n",
      "v_Intercept_subj.44     0.418343     0.211287     0.011846     0.272389     0.419332     0.562809     0.829436    0.0147176\n",
      "v_Intercept_subj.45     0.249262     0.199109    -0.151212     0.120556      0.25407     0.371395     0.657784    0.0138435\n",
      "v_Intercept_subj.46    -0.477476     0.186734    -0.838917    -0.602102    -0.479112    -0.353246    -0.116055    0.0138189\n",
      "v_Intercept_subj.47     0.518065     0.206695     0.105652     0.386023     0.516125     0.649447     0.944438    0.0136644\n",
      "v_Intercept_subj.48    -0.560631     0.250537     -1.01343    -0.745012    -0.577199    -0.401177   -0.0356978    0.0182525\n",
      "v_Intercept_subj.49    0.0590219     0.171805    -0.259514   -0.0606588    0.0451552     0.180084     0.400594    0.0125021\n",
      "v_gain                  0.014808   0.00129395    0.0122552    0.0139443     0.014819    0.0156969    0.0173328  4.24776e-05\n",
      "v_gain_std            0.00862583   0.00107262   0.00685941   0.00783583   0.00855218   0.00932805    0.0109164  4.40019e-05\n",
      "v_gain_subj.1          0.0181914   0.00211799    0.0138964     0.016773    0.0181966     0.019615    0.0224481  0.000129909\n",
      "v_gain_subj.2          0.0204076   0.00294747    0.0150264    0.0184486    0.0202285    0.0225189    0.0263589  0.000185131\n",
      "v_gain_subj.3          0.0067067    0.0018989   0.00323208   0.00537422   0.00669306   0.00798219    0.0104941  0.000122398\n",
      "v_gain_subj.4          0.0307053   0.00277295    0.0255909    0.0287114    0.0306811    0.0326743     0.035971  0.000162788\n",
      "v_gain_subj.5         0.00919828   0.00477088  -7.8742e-05   0.00596882   0.00899879    0.0125549     0.018389  0.000252599\n",
      "v_gain_subj.6         0.00937377   0.00295864   0.00328631   0.00733051   0.00951284    0.0114821    0.0147624  0.000186786\n",
      "v_gain_subj.7          0.0119636   0.00323426   0.00560771   0.00983125    0.0120198    0.0140703    0.0184493  0.000205355\n",
      "v_gain_subj.8          0.0252247   0.00233703    0.0205894    0.0237438    0.0251337    0.0267243    0.0299163  0.000137889\n",
      "v_gain_subj.9         0.00880075   0.00173605   0.00550697   0.00766103   0.00881185   0.00992721    0.0121527  0.000106017\n",
      "v_gain_subj.10        0.00327936   0.00163042  0.000185058   0.00214626    0.0032103   0.00437694   0.00654114  0.000100203\n",
      "v_gain_subj.11         0.0179571   0.00260765    0.0130362    0.0161824    0.0179579    0.0196836    0.0234039  0.000149418\n",
      "v_gain_subj.12         0.0200661   0.00224951    0.0158994    0.0185338    0.0201126    0.0215455    0.0244697  0.000124012\n",
      "v_gain_subj.13         0.0303542   0.00283615    0.0244792    0.0286118    0.0304104    0.0322834    0.0358618  0.000180915\n",
      "v_gain_subj.14         0.0169754   0.00240101     0.012273    0.0153594    0.0170343     0.018572    0.0216691  0.000150308\n",
      "v_gain_subj.15         0.0182402   0.00245024    0.0134103    0.0165558    0.0181529    0.0199893    0.0229538  0.000153757\n",
      "v_gain_subj.16         0.0094084   0.00248045   0.00471726   0.00771008   0.00947225    0.0110465    0.0143259  0.000148576\n",
      "v_gain_subj.17         0.0117463   0.00358684    0.0050075   0.00929224    0.0116007    0.0142371    0.0191166  0.000225348\n",
      "v_gain_subj.18         0.0152658   0.00218038    0.0109314    0.0137704     0.015301    0.0166813    0.0195935  0.000131596\n",
      "v_gain_subj.19       8.49866e-05   0.00200454  -0.00407236   -0.0012729  8.10161e-05    0.0013554   0.00403149  0.000121386\n",
      "v_gain_subj.20        0.00656499    0.0063001  -0.00601136   0.00245843    0.0067439    0.0108484     0.019022  0.000320261\n",
      "v_gain_subj.21        0.00913005   0.00291273   0.00336534   0.00727247   0.00907011    0.0110029    0.0149696  0.000159266\n",
      "v_gain_subj.22        0.00755604   0.00294279   0.00198671    0.0055249    0.0075114   0.00961932    0.0133811  0.000169843\n",
      "v_gain_subj.23         0.0134966   0.00289282   0.00765688    0.0116115    0.0134735    0.0154815    0.0192331  0.000162771\n",
      "v_gain_subj.24        0.00543545   0.00708734  -0.00833792  0.000478355   0.00548058    0.0103085     0.019139  0.000246142\n",
      "v_gain_subj.25         0.0151315   0.00306637   0.00893538    0.0131232    0.0151337    0.0171642    0.0210743  0.000172275\n",
      "v_gain_subj.26         0.0264745   0.00263264    0.0212711    0.0246681    0.0264641    0.0281931    0.0315576  0.000166944\n",
      "v_gain_subj.27         0.0231721   0.00216069    0.0186201    0.0217536    0.0231239    0.0247052    0.0272692  0.000146985\n",
      "v_gain_subj.28          0.021734   0.00220528    0.0174107    0.0201533     0.021672    0.0232739    0.0259715  0.000144434\n",
      "v_gain_subj.29        0.00584715   0.00225498   0.00133066   0.00437114   0.00583165   0.00731238     0.010424  0.000135276\n",
      "v_gain_subj.30         0.0144733    0.0025455   0.00968498    0.0127568    0.0144091    0.0161574    0.0198409  0.000140535\n",
      "v_gain_subj.31          0.032096   0.00328096    0.0258012    0.0297611    0.0320753    0.0343452    0.0386382  0.000217969\n",
      "v_gain_subj.32         0.0163126   0.00332748    0.0101561    0.0139875     0.016236    0.0185252    0.0231242  0.000187414\n",
      "v_gain_subj.33          0.009563   0.00236309   0.00477984   0.00807795   0.00952724    0.0110997    0.0140267  0.000140261\n",
      "v_gain_subj.34        0.00914241   0.00227415   0.00458033   0.00767856   0.00914512    0.0106124    0.0136215  0.000128329\n",
      "v_gain_subj.35         0.0211959   0.00286233    0.0154324    0.0192437    0.0212347    0.0232096    0.0265427  0.000168696\n",
      "v_gain_subj.36         0.0135355   0.00317578   0.00701437    0.0114225    0.0136017    0.0157745    0.0195393  0.000190735\n",
      "v_gain_subj.37         0.0173652   0.00251792    0.0124304    0.0157327    0.0173674    0.0189813    0.0224362  0.000150524\n",
      "v_gain_subj.38        0.00700904    0.0024812   0.00212487   0.00539555   0.00701882   0.00861999    0.0119441  0.000158136\n",
      "v_gain_subj.39         0.0231563   0.00337933    0.0165963    0.0208438    0.0229889    0.0254661    0.0296693  0.000198405\n",
      "v_gain_subj.40          0.025693   0.00243963    0.0210212    0.0240153    0.0256131     0.027342    0.0305854  0.000156674\n",
      "v_gain_subj.41        0.00833991   0.00271307   0.00267358    0.0065248   0.00835789    0.0101358    0.0136869  0.000160619\n",
      "v_gain_subj.42         0.0169071   0.00256239    0.0118509    0.0151635    0.0168896    0.0186753     0.021939  0.000174087\n",
      "v_gain_subj.43          0.010453   0.00240982   0.00601388   0.00873638    0.0103154    0.0120761    0.0154415  0.000151527\n",
      "v_gain_subj.44         0.0248115   0.00259616    0.0198237    0.0230212    0.0247669    0.0266124    0.0300057  0.000158439\n",
      "v_gain_subj.45        0.00841994   0.00246039   0.00365156    0.0066936   0.00838565    0.0101579    0.0130434  0.000139136\n",
      "v_gain_subj.46        0.00153471   0.00228967   -0.0030151  1.63096e-05   0.00157222   0.00309104   0.00624818  0.000142281\n",
      "v_gain_subj.47         0.0104867    0.0027448   0.00511883   0.00863804    0.0105741    0.0124456     0.015645  0.000164142\n",
      "v_gain_subj.48         0.0214963   0.00318425    0.0149473    0.0194593    0.0216676    0.0235686    0.0275757  0.000224047\n",
      "v_gain_subj.49         0.0170869   0.00228422    0.0123424    0.0156774    0.0170893    0.0186787    0.0214111  0.000147092\n",
      "v_loss                 0.0241524   0.00153099    0.0211289    0.0231628    0.0241906    0.0251492    0.0271762  4.86567e-05\n",
      "v_loss_std            0.00981327   0.00114985   0.00780303   0.00904026   0.00975199    0.0104851    0.0123565  4.36854e-05\n",
      "v_loss_subj.1          0.0211803   0.00218838    0.0166713    0.0197166    0.0212322    0.0225975    0.0254199  0.000143051\n",
      "v_loss_subj.2          0.0339851   0.00329504    0.0277061    0.0315572    0.0338779    0.0362177     0.040836  0.000221724\n",
      "v_loss_subj.3          0.0244665   0.00229695     0.019831    0.0228445    0.0245301    0.0259971    0.0287408  0.000153526\n",
      "v_loss_subj.4          0.0305958   0.00271548    0.0252746    0.0286441    0.0305822     0.032389    0.0361287  0.000172609\n",
      "v_loss_subj.5           0.030336   0.00569458    0.0191064    0.0264681    0.0303099    0.0341509    0.0414076  0.000253141\n",
      "v_loss_subj.6          0.0119233   0.00312531   0.00570617   0.00983175    0.0118995    0.0138994    0.0181742  0.000200709\n",
      "v_loss_subj.7          0.0158573   0.00310133   0.00972125     0.013801    0.0158677    0.0180821    0.0216972  0.000167141\n",
      "v_loss_subj.8          0.0204453   0.00227586    0.0155213    0.0189393    0.0205553    0.0218963    0.0248943  0.000150999\n",
      "v_loss_subj.9          0.0208527   0.00228424    0.0163427    0.0193226    0.0207727     0.022397    0.0252647  0.000144733\n",
      "v_loss_subj.10         0.0149234   0.00161957    0.0117328     0.013806    0.0150157    0.0159794    0.0181528  9.41109e-05\n",
      "v_loss_subj.11          0.033145   0.00318433    0.0264073    0.0310744    0.0331416    0.0351189    0.0395722  0.000214791\n",
      "v_loss_subj.12         0.0209254   0.00247246    0.0160242    0.0191808    0.0210046    0.0226534     0.025378  0.000155885\n",
      "v_loss_subj.13          0.037959   0.00303938     0.031941    0.0359039    0.0379507    0.0401157    0.0437053  0.000189387\n",
      "v_loss_subj.14          0.024025   0.00259486    0.0191035    0.0221302    0.0239329    0.0257953    0.0292372  0.000168506\n",
      "v_loss_subj.15         0.0245649   0.00247073    0.0199433    0.0228549    0.0245409    0.0262262    0.0295062  0.000161963\n",
      "v_loss_subj.16         0.0258262   0.00260495    0.0207628    0.0240325    0.0258517    0.0276802    0.0308293  0.000161656\n",
      "v_loss_subj.17         0.0160975   0.00414605   0.00784387    0.0132545    0.0161443    0.0188158    0.0240333  0.000259785\n",
      "v_loss_subj.18         0.0327352    0.0025364    0.0274587    0.0310326    0.0327629    0.0343902    0.0377024  0.000155792\n",
      "v_loss_subj.19         0.0031125   0.00213022   -0.0012385    0.0016906   0.00321635   0.00456866   0.00693743  0.000144237\n",
      "v_loss_subj.20        0.00843493   0.00516728  -0.00148523   0.00486913   0.00831516    0.0120013    0.0182796  0.000246931\n",
      "v_loss_subj.21          0.034456    0.0031553    0.0282026    0.0323635    0.0345085      0.03654    0.0406672  0.000161644\n",
      "v_loss_subj.22         0.0314418   0.00339673    0.0247415    0.0290736    0.0315388    0.0338015     0.037939  0.000180229\n",
      "v_loss_subj.23         0.0451976   0.00400203    0.0373645    0.0426049    0.0452689    0.0479153    0.0528829  0.000273121\n",
      "v_loss_subj.24         0.0202094   0.00672041   0.00749482    0.0154146    0.0205066    0.0248149    0.0327941  0.000275398\n",
      "v_loss_subj.25         0.0338855   0.00354511    0.0266255    0.0317059    0.0338802    0.0361264    0.0409851  0.000209984\n",
      "v_loss_subj.26         0.0184824   0.00243522    0.0141156    0.0167956    0.0184858     0.020124    0.0232093    0.0001588\n",
      "v_loss_subj.27         0.0360169   0.00255266    0.0310474    0.0344055    0.0359151    0.0376304    0.0412889  0.000192663\n",
      "v_loss_subj.28         0.0202617   0.00210849    0.0164006    0.0188136    0.0201421    0.0217742    0.0243762  0.000126723\n",
      "v_loss_subj.29        0.00906178    0.0024234   0.00440595   0.00748439   0.00904046    0.0106021    0.0138946  0.000151286\n",
      "v_loss_subj.30         0.0275116   0.00294327    0.0214534    0.0257313    0.0275241    0.0295464    0.0329955   0.00018341\n",
      "v_loss_subj.31         0.0286937   0.00295157    0.0230231    0.0267265    0.0287716     0.030681     0.034316  0.000191656\n",
      "v_loss_subj.32         0.0326479   0.00346384     0.026016    0.0304026    0.0326316    0.0348619    0.0399944  0.000179845\n",
      "v_loss_subj.33          0.017078   0.00268117    0.0114342    0.0153894    0.0171404    0.0189144    0.0221897  0.000158801\n",
      "v_loss_subj.34         0.0301208   0.00254898    0.0252936    0.0284164    0.0300712    0.0318423    0.0350201  0.000152497\n",
      "v_loss_subj.35         0.0325154   0.00318581    0.0264075    0.0303136    0.0326965    0.0347301     0.038654  0.000195215\n",
      "v_loss_subj.36         0.0321684   0.00383964    0.0247777    0.0296567    0.0319782    0.0344786    0.0403047  0.000240845\n",
      "v_loss_subj.37         0.0161554    0.0022539    0.0116064    0.0147164    0.0161976    0.0176331    0.0205086   0.00013745\n",
      "v_loss_subj.38         0.0202793   0.00260635    0.0152351     0.018406    0.0202607    0.0221117    0.0253705  0.000150573\n",
      "v_loss_subj.39         0.0260481   0.00342891    0.0194435    0.0238064    0.0261287    0.0283058    0.0329086   0.00019153\n",
      "v_loss_subj.40         0.0151391    0.0022215    0.0106877    0.0136199    0.0152511    0.0166613    0.0193611   0.00013997\n",
      "v_loss_subj.41         0.0252963   0.00288997    0.0197682    0.0233272    0.0253401    0.0272875    0.0308031  0.000183258\n",
      "v_loss_subj.42         0.0232266   0.00272983    0.0179067    0.0213166    0.0232497    0.0249943    0.0286412   0.00018902\n",
      "v_loss_subj.43         0.0214879   0.00251189    0.0165254    0.0198531      0.02152    0.0231198    0.0265644  0.000162138\n",
      "v_loss_subj.44         0.0377691    0.0031345    0.0318372     0.035468    0.0378577    0.0398498    0.0441258  0.000202647\n",
      "v_loss_subj.45         0.0108946   0.00254337   0.00598307   0.00921406    0.0108532    0.0125293    0.0160474   0.00015442\n",
      "v_loss_subj.46        0.00839967   0.00225422   0.00400148   0.00691004   0.00844358   0.00993738    0.0126295  0.000143448\n",
      "v_loss_subj.47         0.0259987   0.00267231    0.0206704    0.0242292    0.0260079    0.0278763    0.0310185  0.000154282\n",
      "v_loss_subj.48         0.0315019     0.003602    0.0248553    0.0288539    0.0314687     0.034013    0.0384367  0.000216898\n",
      "v_loss_subj.49         0.0223631   0.00249142    0.0174824    0.0206859    0.0223628    0.0240139    0.0273695  0.000164636\n",
      "a_Intercept              2.08368    0.0732441      1.94584      2.02973      2.08127      2.13382      2.22669   0.00278692\n",
      "a_Intercept_std          0.46432    0.0581746     0.363044     0.421717      0.46047     0.501684     0.588868   0.00232456\n",
      "a_Intercept_subj.1        2.3375     0.148891      2.06371      2.23215      2.33322       2.4435      2.63444    0.0097495\n",
      "a_Intercept_subj.2       1.62609     0.110132      1.41699      1.55362      1.62134      1.70062      1.84525   0.00555148\n",
      "a_Intercept_subj.3       2.49887     0.163347      2.19076      2.38092      2.49689      2.60165      2.83373   0.00913093\n",
      "a_Intercept_subj.4       2.05795     0.159325      1.75965      1.94926      2.05177      2.16693      2.37857    0.0107886\n",
      "a_Intercept_subj.5        2.3309     0.306062      1.80554       2.1052      2.30629      2.52103      3.00926    0.0169972\n",
      "a_Intercept_subj.6       2.12693     0.217047      1.74902      1.98014      2.10158         2.26      2.57904    0.0128944\n",
      "a_Intercept_subj.7       2.15215      0.15757      1.87255      2.04456      2.14026      2.25891      2.48154   0.00826139\n",
      "a_Intercept_subj.8       2.20269     0.164932      1.90458      2.09384      2.18737      2.31146      2.54473    0.0108093\n",
      "a_Intercept_subj.9       2.68518     0.174347      2.37361      2.56106      2.67887      2.80038       3.0499   0.00889984\n",
      "a_Intercept_subj.10      3.31046     0.200686      2.92995      3.16966      3.31413      3.44012      3.72778   0.00972551\n",
      "a_Intercept_subj.11      1.55318     0.138027      1.29825      1.45783      1.54724      1.64471       1.8286   0.00825912\n",
      "a_Intercept_subj.12      2.35994     0.170916      2.04626      2.23966      2.35427      2.48288      2.71583    0.0117877\n",
      "a_Intercept_subj.13      1.60706     0.113458      1.39765        1.528      1.60222      1.68473      1.84647   0.00681491\n",
      "a_Intercept_subj.14      1.73645     0.120484      1.51242      1.65383      1.72987       1.8183      1.97372   0.00662531\n",
      "a_Intercept_subj.15      1.85433     0.143556      1.56723       1.7594      1.85469      1.94745      2.15108   0.00851519\n",
      "a_Intercept_subj.16      1.80271     0.129603      1.56415      1.71075      1.80138      1.89169      2.05755   0.00603742\n",
      "a_Intercept_subj.17      1.67804     0.189132       1.3447      1.55081       1.6675      1.79163       2.0762    0.0105006\n",
      "a_Intercept_subj.18      1.99847     0.148524      1.70891      1.90116      1.99537      2.09536      2.30141   0.00910832\n",
      "a_Intercept_subj.19      2.37299     0.143498       2.0877      2.27911       2.3721      2.46172      2.67511   0.00914716\n",
      "a_Intercept_subj.20      2.13087     0.365254      1.46626       1.8738       2.1133      2.36429      2.88047    0.0154897\n",
      "a_Intercept_subj.21       1.6373     0.101137      1.45581      1.56709      1.63051      1.70096      1.85354   0.00547938\n",
      "a_Intercept_subj.22      1.98907     0.125821      1.76014      1.89829       1.9809      2.07585      2.25193   0.00628803\n",
      "a_Intercept_subj.23       1.5773     0.117567      1.36181      1.49842       1.5748      1.65527      1.81785     0.006672\n",
      "a_Intercept_subj.24      1.62979     0.326125      1.09002      1.39811      1.59506      1.82112      2.36111    0.0162275\n",
      "a_Intercept_subj.25      1.53167     0.103041      1.33518      1.45955      1.52879      1.59976       1.7434   0.00541217\n",
      "a_Intercept_subj.26      2.23539     0.159478      1.93025      2.12456      2.23428      2.34822      2.53151    0.0113415\n",
      "a_Intercept_subj.27      3.02411     0.207209      2.63581       2.8795      3.01717      3.16606      3.44058    0.0134031\n",
      "a_Intercept_subj.28      2.41293     0.163204      2.12474       2.2995      2.40619      2.51798      2.75498    0.0103421\n",
      "a_Intercept_subj.29      2.76473     0.238051      2.31431      2.59691      2.75858      2.92301      3.26273    0.0117106\n",
      "a_Intercept_subj.30      2.04975     0.144746      1.79278      1.94308      2.04917      2.15315      2.33261   0.00732213\n",
      "a_Intercept_subj.31      1.54995     0.103676      1.35506      1.47995      1.54578        1.617       1.7729      0.00501\n",
      "a_Intercept_subj.32       1.7725     0.116399      1.55166      1.69101      1.77004      1.85089      2.00458   0.00610053\n",
      "a_Intercept_subj.33      2.12791     0.161618      1.84312      2.01353      2.11396      2.23624       2.4665   0.00748271\n",
      "a_Intercept_subj.34        2.576     0.145653      2.30131      2.47435      2.56992      2.67269      2.86905   0.00854564\n",
      "a_Intercept_subj.35      1.32028     0.115012      1.10358      1.24075      1.31239      1.39426       1.5664   0.00754654\n",
      "a_Intercept_subj.36      1.63247      0.12891      1.40284      1.54295      1.63281      1.71019      1.90278   0.00668154\n",
      "a_Intercept_subj.37      2.20414     0.153146      1.92209      2.09989      2.19907      2.30117      2.52361   0.00992669\n",
      "a_Intercept_subj.38      1.93166      0.12159      1.69689      1.84804      1.92844       2.0159      2.16353   0.00639402\n",
      "a_Intercept_subj.39      1.46859    0.0922683      1.29054       1.4064      1.46749      1.53195      1.65197    0.0057121\n",
      "a_Intercept_subj.40      2.18906     0.164824      1.86773      2.07792      2.19004      2.30904      2.49611    0.0104635\n",
      "a_Intercept_subj.41       1.9759     0.129813      1.73052      1.88616      1.97146      2.06345        2.253   0.00615842\n",
      "a_Intercept_subj.42      2.03941     0.144074      1.75366      1.94386       2.0407      2.13341      2.32702   0.00732465\n",
      "a_Intercept_subj.43      2.55021     0.178212      2.22325      2.42954      2.54425      2.66295      2.91071    0.0125178\n",
      "a_Intercept_subj.44      1.76216     0.126834      1.52337      1.67473      1.76374      1.84766       2.0011   0.00790601\n",
      "a_Intercept_subj.45      2.53575     0.170062      2.21864      2.42438      2.53106      2.64038      2.89762    0.0104015\n",
      "a_Intercept_subj.46      2.64605     0.236986      2.20981      2.47665      2.62835      2.79712      3.16399    0.0145891\n",
      "a_Intercept_subj.47      2.21201     0.141145      1.93049      2.11376      2.21266      2.31109      2.49524   0.00679082\n",
      "a_Intercept_subj.48      2.22529     0.151786      1.95108      2.11746      2.22165      2.32323      2.55304   0.00815142\n",
      "a_Intercept_subj.49      2.09225     0.136781      1.83403      2.00259      2.08621       2.1736      2.38144   0.00768623\n",
      "a_loss               -0.00752597    0.0009645  -0.00958347  -0.00815267  -0.00749412  -0.00687372  -0.00578277  4.80871e-05\n",
      "a_loss_std            0.00569808  0.000855167   0.00425224   0.00509575   0.00561091   0.00623626   0.00756795  4.82143e-05\n",
      "a_loss_subj.1        -0.00526993   0.00242121  -0.00981549  -0.00685333  -0.00539025  -0.00371476 -0.000416232  0.000149606\n",
      "a_loss_subj.2         -0.0103331   0.00239666   -0.0152659   -0.0119471   -0.0102289  -0.00865535  -0.00597356  0.000135279\n",
      "a_loss_subj.3         -0.0144884   0.00386375   -0.0225741   -0.0169263   -0.0142356   -0.0119074  -0.00726413  0.000250297\n",
      "a_loss_subj.4        -0.00291517     0.002307  -0.00722296  -0.00453455  -0.00296912  -0.00127152   0.00151085  0.000145957\n",
      "a_loss_subj.5        -0.00497271   0.00471272   -0.0151848  -0.00791753  -0.00473738  -0.00173466   0.00369856  0.000226146\n",
      "a_loss_subj.6         -0.0119188   0.00393277    -0.019747   -0.0144908   -0.0117358  -0.00927081  -0.00441608  0.000226696\n",
      "a_loss_subj.7        -0.00339644   0.00292865  -0.00948952  -0.00524145  -0.00326447  -0.00140517     0.002034  0.000148285\n",
      "a_loss_subj.8        -0.00303148   0.00232766  -0.00736775  -0.00467625  -0.00307185  -0.00139624    0.0016042  0.000145684\n",
      "a_loss_subj.9        -0.00992851   0.00360548   -0.0168101   -0.0123415  -0.00992449  -0.00748681  -0.00290111  0.000202952\n",
      "a_loss_subj.10       -0.00931362   0.00385693   -0.0172791   -0.0119034  -0.00923936  -0.00650417  -0.00215246  0.000198132\n",
      "a_loss_subj.11        -0.0145909   0.00310981   -0.0208428   -0.0166155   -0.0145035   -0.0124692  -0.00867491  0.000211026\n",
      "a_loss_subj.12       -0.00284918   0.00247844  -0.00760245  -0.00453603  -0.00277812  -0.00107497   0.00190862  0.000166646\n",
      "a_loss_subj.13       -0.00784636   0.00227961   -0.0123328   -0.0093828  -0.00779852  -0.00628637  -0.00357372  0.000142561\n",
      "a_loss_subj.14         -0.011213   0.00237379   -0.0158446   -0.0127804   -0.0112197    -0.009607  -0.00664102  0.000133039\n",
      "a_loss_subj.15        -0.0114185   0.00260857   -0.0164151     -0.01315   -0.0114273  -0.00972524  -0.00631014  0.000154759\n",
      "a_loss_subj.16        -0.0156782   0.00316439   -0.0221379   -0.0178078   -0.0155616   -0.0135121  -0.00963954  0.000161159\n",
      "a_loss_subj.17       -0.00937697    0.0035447   -0.0168999   -0.0115278  -0.00916836  -0.00706298  -0.00264495   0.00021097\n",
      "a_loss_subj.18       -0.00996371   0.00310346   -0.0163991    -0.012044  -0.00992415  -0.00792519  -0.00347265  0.000185565\n",
      "a_loss_subj.19       -0.00167087   0.00229198  -0.00610523   -0.0031138  -0.00171065  -0.00022892   0.00279407  0.000143888\n",
      "a_loss_subj.20       -0.00885036   0.00447235   -0.0174682   -0.0119427   -0.0087825  -0.00563051 -0.000512638  0.000172688\n",
      "a_loss_subj.21       -0.00364362   0.00223334  -0.00818078  -0.00510512  -0.00363054  -0.00211446  0.000663365  0.000136218\n",
      "a_loss_subj.22       -0.00366733   0.00347227   -0.0106448  -0.00600203  -0.00362564  -0.00124886   0.00292659  0.000214967\n",
      "a_loss_subj.23       -0.00851606   0.00309979   -0.0143926    -0.010723  -0.00848189  -0.00636998  -0.00248664  0.000214339\n",
      "a_loss_subj.24       -0.00618631   0.00416297   -0.0150322  -0.00872777   -0.0060827  -0.00353304    0.0017599    0.0001615\n",
      "a_loss_subj.25       -0.00479027   0.00200535  -0.00873276  -0.00622751  -0.00480283  -0.00346121 -0.000935234   0.00011436\n",
      "a_loss_subj.26         -0.002614   0.00239064  -0.00737868  -0.00430697  -0.00260963 -0.000898362   0.00203506  0.000154355\n",
      "a_loss_subj.27       -0.00497906   0.00340652   -0.0115066  -0.00722488  -0.00499213  -0.00279717   0.00182124  0.000224072\n",
      "a_loss_subj.28       -0.00112701   0.00252749  -0.00603881  -0.00285233  -0.00116395  0.000613956   0.00389237  0.000154188\n",
      "a_loss_subj.29        -0.0118816   0.00433266   -0.0207135   -0.0148157   -0.0116521  -0.00884871  -0.00412474  0.000221502\n",
      "a_loss_subj.30          -0.01128   0.00343391   -0.0181505    -0.013657   -0.0110642  -0.00893872   -0.0047532  0.000209876\n",
      "a_loss_subj.31       -0.00921631   0.00200426   -0.0132775   -0.0105609  -0.00916064  -0.00776062   -0.0054906   0.00010265\n",
      "a_loss_subj.32       -0.00524677   0.00277661   -0.0112454  -0.00707726  -0.00508827  -0.00329893  -0.00038988  0.000152645\n",
      "a_loss_subj.33        -0.0161598   0.00400256   -0.0243706   -0.0185386   -0.0161039   -0.0134095  -0.00882494  0.000253823\n",
      "a_loss_subj.34       0.000440678   0.00271774  -0.00462433  -0.00140622  0.000459085   0.00221068    0.0058398  0.000160021\n",
      "a_loss_subj.35        -0.0104356   0.00229675   -0.0150485   -0.0120066   -0.0104406  -0.00878983  -0.00601377  0.000153985\n",
      "a_loss_subj.36        -0.0130082   0.00382393   -0.0214717     -0.01548   -0.0127274   -0.0102363  -0.00652457  0.000252231\n",
      "a_loss_subj.37      -0.000825036    0.0022221  -0.00522153  -0.00229186 -0.000883182  0.000703837   0.00353839  0.000139473\n",
      "a_loss_subj.38        -0.0113575   0.00315673   -0.0182717   -0.0132518   -0.0111555  -0.00907928  -0.00603063  0.000190606\n",
      "a_loss_subj.39       -0.00254897    0.0015663  -0.00557384  -0.00362392  -0.00254114   -0.0015305  0.000533252   9.1978e-05\n",
      "a_loss_subj.40       -0.00497713   0.00240368   -0.0100055  -0.00646244  -0.00490315   -0.0033539 -0.000291657  0.000148202\n",
      "a_loss_subj.41       -0.00782377   0.00300413   -0.0137706  -0.00971887  -0.00776664  -0.00567057  -0.00227075   0.00016281\n",
      "a_loss_subj.42        -0.0154263   0.00326297   -0.0222248   -0.0175387   -0.0153293   -0.0131876  -0.00934259  0.000200046\n",
      "a_loss_subj.43        0.00298407   0.00242192   -0.0016984   0.00137387   0.00292293   0.00465873   0.00793893  0.000164311\n",
      "a_loss_subj.44       -0.00965355   0.00257302   -0.0150268   -0.0113164  -0.00952309  -0.00781629   -0.0048953  0.000153672\n",
      "a_loss_subj.45       0.000318096   0.00267461  -0.00488817  -0.00147611  0.000337108   0.00198152   0.00597353  0.000167955\n",
      "a_loss_subj.46         -0.012183   0.00359889    -0.019517    -0.014676   -0.0120676    -0.009708  -0.00566883  0.000186687\n",
      "a_loss_subj.47       -0.00875166   0.00333844    -0.015145   -0.0108908  -0.00865711  -0.00655544  -0.00236424  0.000185275\n",
      "a_loss_subj.48       -0.00784385   0.00361144   -0.0150354   -0.0102241  -0.00769015  -0.00525729  -0.00125985  0.000233996\n",
      "a_loss_subj.49        -0.0080008   0.00255641    -0.013188  -0.00960606  -0.00793982  -0.00634354  -0.00290867  0.000150757\n",
      "DIC: 16869.864045\n",
      "deviance: 16580.414242\n",
      "pD: 289.449802\n"
     ]
    }
   ],
   "source": [
    "m.print_stats()"
   ]
  },
  {
   "cell_type": "markdown",
   "metadata": {},
   "source": [
    "# Choice Probability vs. choice-factor adjusted RT"
   ]
  },
  {
   "cell_type": "code",
   "execution_count": null,
   "metadata": {},
   "outputs": [],
   "source": []
  }
 ],
 "metadata": {
  "kernelspec": {
   "display_name": "Python 2",
   "language": "python",
   "name": "python2"
  },
  "language_info": {
   "codemirror_mode": {
    "name": "ipython",
    "version": 2
   },
   "file_extension": ".py",
   "mimetype": "text/x-python",
   "name": "python",
   "nbconvert_exporter": "python",
   "pygments_lexer": "ipython2",
   "version": "2.7.16"
  }
 },
 "nbformat": 4,
 "nbformat_minor": 2
}
